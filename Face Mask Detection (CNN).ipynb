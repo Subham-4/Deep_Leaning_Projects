{
 "cells": [
  {
   "cell_type": "code",
   "execution_count": 3,
   "id": "c6891277",
   "metadata": {},
   "outputs": [],
   "source": [
    "import os\n",
    "import cv2"
   ]
  },
  {
   "cell_type": "code",
   "execution_count": 2,
   "id": "d25ba919",
   "metadata": {},
   "outputs": [
    {
     "name": "stdout",
     "output_type": "stream",
     "text": [
      "In Folder with_mask\n",
      "In Folder without_mask\n"
     ]
    }
   ],
   "source": [
    "features=[]\n",
    "target=[]\n",
    "for x in [\"with_mask\",\"without_mask\"]:\n",
    "    ImageNameList=os.listdir(\"D:/Datasets/FaceMask/data\" + \"/\" + x)\n",
    "    for y in ImageNameList:\n",
    "        Imgarr=cv2.imread(\"D:\\Datasets\\FaceMask\\data\" + \"/\" + x + \"/\" + y)\n",
    "        try:\n",
    "            Imgarr=cv2.resize(Imgarr,(32,32))\n",
    "        except:\n",
    "            pass\n",
    "        else:\n",
    "            features.append(Imgarr)\n",
    "            if x==\"with_mask\":\n",
    "                target.append(1)\n",
    "            else:\n",
    "                target.append(0)\n",
    "    print(\"In Folder\",x)"
   ]
  },
  {
   "cell_type": "code",
   "execution_count": 3,
   "id": "e280b137",
   "metadata": {},
   "outputs": [],
   "source": [
    "import numpy as np\n",
    "features=np.array(features)\n",
    "target=np.array(target)"
   ]
  },
  {
   "cell_type": "code",
   "execution_count": 4,
   "id": "b80a18ff",
   "metadata": {},
   "outputs": [
    {
     "data": {
      "text/plain": [
       "(7553, 32, 32, 3)"
      ]
     },
     "execution_count": 4,
     "metadata": {},
     "output_type": "execute_result"
    }
   ],
   "source": [
    "features.shape"
   ]
  },
  {
   "cell_type": "code",
   "execution_count": 5,
   "id": "306905db",
   "metadata": {},
   "outputs": [
    {
     "data": {
      "text/plain": [
       "(7553,)"
      ]
     },
     "execution_count": 5,
     "metadata": {},
     "output_type": "execute_result"
    }
   ],
   "source": [
    "target.shape"
   ]
  },
  {
   "cell_type": "code",
   "execution_count": 6,
   "id": "11709581",
   "metadata": {},
   "outputs": [],
   "source": [
    "from sklearn.model_selection import train_test_split"
   ]
  },
  {
   "cell_type": "code",
   "execution_count": 7,
   "id": "ad202d8b",
   "metadata": {},
   "outputs": [],
   "source": [
    "features_train,features_test,target_train,target_test=train_test_split(features,target,test_size=0.2)"
   ]
  },
  {
   "cell_type": "code",
   "execution_count": 8,
   "id": "422db086",
   "metadata": {},
   "outputs": [
    {
     "data": {
      "text/plain": [
       "(6042, 32, 32, 3)"
      ]
     },
     "execution_count": 8,
     "metadata": {},
     "output_type": "execute_result"
    }
   ],
   "source": [
    "features_train.shape"
   ]
  },
  {
   "cell_type": "code",
   "execution_count": 9,
   "id": "08129255",
   "metadata": {},
   "outputs": [
    {
     "data": {
      "text/plain": [
       "(1511, 32, 32, 3)"
      ]
     },
     "execution_count": 9,
     "metadata": {},
     "output_type": "execute_result"
    }
   ],
   "source": [
    "features_test.shape"
   ]
  },
  {
   "cell_type": "code",
   "execution_count": 10,
   "id": "d964b8c9",
   "metadata": {},
   "outputs": [
    {
     "data": {
      "text/plain": [
       "(6042,)"
      ]
     },
     "execution_count": 10,
     "metadata": {},
     "output_type": "execute_result"
    }
   ],
   "source": [
    "target_train.shape"
   ]
  },
  {
   "cell_type": "code",
   "execution_count": 11,
   "id": "9988e45b",
   "metadata": {},
   "outputs": [
    {
     "data": {
      "text/plain": [
       "(1511,)"
      ]
     },
     "execution_count": 11,
     "metadata": {},
     "output_type": "execute_result"
    }
   ],
   "source": [
    "target_test.shape"
   ]
  },
  {
   "cell_type": "code",
   "execution_count": 4,
   "id": "cd67b216",
   "metadata": {},
   "outputs": [],
   "source": [
    "def preprocessing(image):\n",
    "    image=cv2.cvtColor(image,cv2.COLOR_BGR2GRAY)\n",
    "    image=image/255\n",
    "    return image"
   ]
  },
  {
   "cell_type": "code",
   "execution_count": 13,
   "id": "a90853f2",
   "metadata": {},
   "outputs": [],
   "source": [
    "features_train=np.array(list(map(preprocessing,features_train)))"
   ]
  },
  {
   "cell_type": "code",
   "execution_count": 14,
   "id": "c305c3bb",
   "metadata": {},
   "outputs": [
    {
     "data": {
      "text/plain": [
       "(6042, 32, 32)"
      ]
     },
     "execution_count": 14,
     "metadata": {},
     "output_type": "execute_result"
    }
   ],
   "source": [
    "features_train.shape"
   ]
  },
  {
   "cell_type": "code",
   "execution_count": 15,
   "id": "9e7b6cc7",
   "metadata": {},
   "outputs": [],
   "source": [
    "features_train=features_train.reshape(6042,32,32,1)"
   ]
  },
  {
   "cell_type": "code",
   "execution_count": 16,
   "id": "e3cc84c3",
   "metadata": {},
   "outputs": [],
   "source": [
    "from tensorflow.keras.preprocessing.image import ImageDataGenerator"
   ]
  },
  {
   "cell_type": "code",
   "execution_count": 17,
   "id": "e74425f7",
   "metadata": {},
   "outputs": [],
   "source": [
    "dataGen=ImageDataGenerator(rotation_range=10,width_shift_range=0.1,height_shift_range=0.1,shear_range=0.1,zoom_range=0.2)"
   ]
  },
  {
   "cell_type": "code",
   "execution_count": 18,
   "id": "304169b0",
   "metadata": {},
   "outputs": [],
   "source": [
    "dataGen.fit(features_train)"
   ]
  },
  {
   "cell_type": "code",
   "execution_count": 19,
   "id": "b9a56a2d",
   "metadata": {},
   "outputs": [],
   "source": [
    "batches=dataGen.flow(features_train,target_train,batch_size=10)"
   ]
  },
  {
   "cell_type": "code",
   "execution_count": 20,
   "id": "7d828a41",
   "metadata": {},
   "outputs": [
    {
     "data": {
      "text/plain": [
       "605"
      ]
     },
     "execution_count": 20,
     "metadata": {},
     "output_type": "execute_result"
    }
   ],
   "source": [
    "len(batches)"
   ]
  },
  {
   "cell_type": "code",
   "execution_count": 21,
   "id": "6451bc57",
   "metadata": {},
   "outputs": [],
   "source": [
    "images,labels=next(batches)"
   ]
  },
  {
   "cell_type": "code",
   "execution_count": 22,
   "id": "582f2167",
   "metadata": {},
   "outputs": [
    {
     "data": {
      "text/plain": [
       "(10, 32, 32, 1)"
      ]
     },
     "execution_count": 22,
     "metadata": {},
     "output_type": "execute_result"
    }
   ],
   "source": [
    "images.shape"
   ]
  },
  {
   "cell_type": "code",
   "execution_count": 23,
   "id": "83ce00f3",
   "metadata": {},
   "outputs": [],
   "source": [
    "images=images.reshape(10,32,32)"
   ]
  },
  {
   "cell_type": "code",
   "execution_count": 24,
   "id": "0574a184",
   "metadata": {},
   "outputs": [],
   "source": [
    "import matplotlib.pyplot as plt"
   ]
  },
  {
   "cell_type": "code",
   "execution_count": 25,
   "id": "a35de42c",
   "metadata": {},
   "outputs": [
    {
     "data": {
      "image/png": "[encoded data removed]",
      "text/plain": [
       "<Figure size 720x720 with 10 Axes>"
      ]
     },
     "metadata": {
      "needs_background": "light"
     },
     "output_type": "display_data"
    }
   ],
   "source": [
    "plt.figure(figsize=(10,10))\n",
    "for i in range(10):\n",
    "    plt.subplot(4,5,i+1)\n",
    "    plt.imshow(images[i])\n",
    "plt.show()"
   ]
  },
  {
   "cell_type": "code",
   "execution_count": 26,
   "id": "b4c89951",
   "metadata": {},
   "outputs": [
    {
     "data": {
      "text/plain": [
       "(6042, 2)"
      ]
     },
     "execution_count": 26,
     "metadata": {},
     "output_type": "execute_result"
    }
   ],
   "source": [
    "from tensorflow.keras.utils import to_categorical\n",
    "target_train=to_categorical(target_train)\n",
    "target_train.shape"
   ]
  },
  {
   "cell_type": "code",
   "execution_count": 27,
   "id": "f31b7fdb",
   "metadata": {},
   "outputs": [
    {
     "data": {
      "text/plain": [
       "(6042, 32, 32, 1)"
      ]
     },
     "execution_count": 27,
     "metadata": {},
     "output_type": "execute_result"
    }
   ],
   "source": [
    "features_train.shape"
   ]
  },
  {
   "cell_type": "code",
   "execution_count": 28,
   "id": "279ae44b",
   "metadata": {},
   "outputs": [],
   "source": [
    "from tensorflow.keras.layers import Dense,Flatten,Conv2D,MaxPooling2D,Dropout\n",
    "from tensorflow.keras.models import Sequential"
   ]
  },
  {
   "cell_type": "code",
   "execution_count": 29,
   "id": "216e1da8",
   "metadata": {},
   "outputs": [],
   "source": [
    "model=Sequential()\n",
    "model.add(Conv2D(60,(3,3),activation=\"relu\",input_shape=(32,32,1)))\n",
    "model.add(Conv2D(60,(3,3),activation=\"relu\"))\n",
    "model.add(MaxPooling2D((2,2)))\n",
    "model.add(Conv2D(30,(3,3),activation=\"relu\"))\n",
    "model.add(Conv2D(30,(3,3),activation=\"relu\"))\n",
    "model.add(Conv2D(30,(3,3),activation=\"relu\"))\n",
    "model.add(MaxPooling2D((2,2)))\n",
    "model.add(Dropout(0.5))\n",
    "model.add(Flatten())\n",
    "model.add(Dense(500,activation=\"relu\"))\n",
    "model.add(Dense(2,activation=\"softmax\"))"
   ]
  },
  {
   "cell_type": "code",
   "execution_count": 30,
   "id": "486b602f",
   "metadata": {},
   "outputs": [],
   "source": [
    "from tensorflow.keras.optimizers import Adam"
   ]
  },
  {
   "cell_type": "code",
   "execution_count": 31,
   "id": "aa97aa8b",
   "metadata": {},
   "outputs": [],
   "source": [
    "model.compile(Adam(learning_rate=0.001),loss=\"categorical_crossentropy\",metrics=[\"accuracy\"])"
   ]
  },
  {
   "cell_type": "code",
   "execution_count": 32,
   "id": "fa4a97ee",
   "metadata": {},
   "outputs": [
    {
     "name": "stderr",
     "output_type": "stream",
     "text": [
      "C:\\Users\\Subham\\AppData\\Roaming\\Python\\Python38\\site-packages\\tensorflow\\python\\keras\\engine\\training.py:1940: UserWarning: `Model.fit_generator` is deprecated and will be removed in a future version. Please use `Model.fit`, which supports generators.\n",
      "  warnings.warn('`Model.fit_generator` is deprecated and '\n"
     ]
    },
    {
     "name": "stdout",
     "output_type": "stream",
     "text": [
      "Epoch 1/30\n",
      "605/605 [==============================] - 22s 34ms/step - loss: 0.6310 - accuracy: 0.6245\n",
      "Epoch 2/30\n",
      "605/605 [==============================] - 21s 34ms/step - loss: 0.4862 - accuracy: 0.7686\n",
      "Epoch 3/30\n",
      "605/605 [==============================] - 21s 34ms/step - loss: 0.4410 - accuracy: 0.7951\n",
      "Epoch 4/30\n",
      "605/605 [==============================] - 21s 34ms/step - loss: 0.4022 - accuracy: 0.8216\n",
      "Epoch 5/30\n",
      "605/605 [==============================] - 21s 35ms/step - loss: 0.3840 - accuracy: 0.8312\n",
      "Epoch 6/30\n",
      "605/605 [==============================] - 21s 34ms/step - loss: 0.3605 - accuracy: 0.8383\n",
      "Epoch 7/30\n",
      "605/605 [==============================] - 21s 34ms/step - loss: 0.3493 - accuracy: 0.8444\n",
      "Epoch 8/30\n",
      "605/605 [==============================] - 21s 34ms/step - loss: 0.3178 - accuracy: 0.8613\n",
      "Epoch 9/30\n",
      "605/605 [==============================] - 21s 35ms/step - loss: 0.3117 - accuracy: 0.8724\n",
      "Epoch 10/30\n",
      "605/605 [==============================] - 21s 35ms/step - loss: 0.3079 - accuracy: 0.8709\n",
      "Epoch 11/30\n",
      "605/605 [==============================] - 21s 35ms/step - loss: 0.3011 - accuracy: 0.8696\n",
      "Epoch 12/30\n",
      "605/605 [==============================] - 22s 36ms/step - loss: 0.2939 - accuracy: 0.8749\n",
      "Epoch 13/30\n",
      "605/605 [==============================] - 21s 35ms/step - loss: 0.2860 - accuracy: 0.8769\n",
      "Epoch 14/30\n",
      "605/605 [==============================] - 21s 35ms/step - loss: 0.2874 - accuracy: 0.8803\n",
      "Epoch 15/30\n",
      "605/605 [==============================] - 21s 35ms/step - loss: 0.2724 - accuracy: 0.8830\n",
      "Epoch 16/30\n",
      "605/605 [==============================] - 21s 35ms/step - loss: 0.2523 - accuracy: 0.8961\n",
      "Epoch 17/30\n",
      "605/605 [==============================] - 21s 35ms/step - loss: 0.2544 - accuracy: 0.8936\n",
      "Epoch 18/30\n",
      "605/605 [==============================] - 21s 35ms/step - loss: 0.2567 - accuracy: 0.8906\n",
      "Epoch 19/30\n",
      "605/605 [==============================] - 21s 35ms/step - loss: 0.2479 - accuracy: 0.8971\n",
      "Epoch 20/30\n",
      "605/605 [==============================] - 21s 34ms/step - loss: 0.2488 - accuracy: 0.8926\n",
      "Epoch 21/30\n",
      "605/605 [==============================] - 21s 35ms/step - loss: 0.2379 - accuracy: 0.8989\n",
      "Epoch 22/30\n",
      "605/605 [==============================] - 21s 35ms/step - loss: 0.2433 - accuracy: 0.9019\n",
      "Epoch 23/30\n",
      "605/605 [==============================] - 21s 35ms/step - loss: 0.2316 - accuracy: 0.9050\n",
      "Epoch 24/30\n",
      "605/605 [==============================] - 21s 35ms/step - loss: 0.2455 - accuracy: 0.8962\n",
      "Epoch 25/30\n",
      "605/605 [==============================] - 21s 35ms/step - loss: 0.2348 - accuracy: 0.9014\n",
      "Epoch 26/30\n",
      "605/605 [==============================] - 21s 35ms/step - loss: 0.2290 - accuracy: 0.9055\n",
      "Epoch 27/30\n",
      "605/605 [==============================] - 21s 35ms/step - loss: 0.2301 - accuracy: 0.9057\n",
      "Epoch 28/30\n",
      "605/605 [==============================] - 21s 35ms/step - loss: 0.2154 - accuracy: 0.9121\n",
      "Epoch 29/30\n",
      "605/605 [==============================] - 21s 35ms/step - loss: 0.2189 - accuracy: 0.9053\n",
      "Epoch 30/30\n",
      "605/605 [==============================] - 21s 35ms/step - loss: 0.2161 - accuracy: 0.9128\n"
     ]
    },
    {
     "data": {
      "text/plain": [
       "<tensorflow.python.keras.callbacks.History at 0x1de60dc20d0>"
      ]
     },
     "execution_count": 32,
     "metadata": {},
     "output_type": "execute_result"
    }
   ],
   "source": [
    "model.fit_generator(dataGen.flow(features_train,target_train,batch_size=10),epochs=30)"
   ]
  },
  {
   "cell_type": "code",
   "execution_count": 33,
   "id": "c5a20e9c",
   "metadata": {},
   "outputs": [],
   "source": [
    "ModelToJSON=model.to_json()"
   ]
  },
  {
   "cell_type": "code",
   "execution_count": 34,
   "id": "1b6e3b1a",
   "metadata": {},
   "outputs": [],
   "source": [
    "obj=open(\"D:/Datasets/FaceMaskModel.json\",\"w\")\n",
    "obj.write(ModelToJSON)\n",
    "obj.close()"
   ]
  },
  {
   "cell_type": "code",
   "execution_count": 35,
   "id": "01ea3e92",
   "metadata": {},
   "outputs": [],
   "source": [
    "model.save_weights(\"D:/Datasets/FaceMaskWeights.h5\")"
   ]
  },
  {
   "cell_type": "code",
   "execution_count": 5,
   "id": "0a4b3e80",
   "metadata": {},
   "outputs": [],
   "source": [
    "from tensorflow.keras.models import model_from_json\n",
    "abc=open(\"D:/Datasets/FaceMaskModel.json\",\"r\")\n",
    "loaded_data=abc.read()\n",
    "model=model_from_json(loaded_data)\n",
    "model.load_weights(\"D:/Datasets/FaceMaskWeights.h5\")"
   ]
  },
  {
   "cell_type": "code",
   "execution_count": 6,
   "id": "81540f30",
   "metadata": {},
   "outputs": [
    {
     "data": {
      "text/plain": [
       "False"
      ]
     },
     "execution_count": 6,
     "metadata": {},
     "output_type": "execute_result"
    }
   ],
   "source": [
    "capt=cv2.VideoCapture(0)\n",
    "capt.set(3,640)\n",
    "capt.set(4,480)\n",
    "capt.set(10,180)"
   ]
  },
  {
   "cell_type": "code",
   "execution_count": 7,
   "id": "207dc0e3",
   "metadata": {},
   "outputs": [],
   "source": [
    "import numpy as np\n",
    "def getClassName(classNo):\n",
    "    if classNo==1:return 'With Mask'\n",
    "    else:return 'Without Mask'"
   ]
  },
  {
   "cell_type": "code",
   "execution_count": null,
   "id": "33b486ef",
   "metadata": {},
   "outputs": [],
   "source": [
    "while True:\n",
    "    message,image=capt.read()\n",
    "    if not message:\n",
    "        break\n",
    "    imagearr=np.asarray(image)\n",
    "    face_cascade = cv2.CascadeClassifier('haarcascade_frontalface_default.xml')\n",
    "    gray = cv2.cvtColor(image, cv2.COLOR_BGR2GRAY)\n",
    "    face=facecasc.detectMultiScale(gray,1.25,3)\n",
    "    for (x,y,w,h) in face:\n",
    "        croppedFace=imagearr[x:x+w,y:y+h]\n",
    "        try:\n",
    "            imagearr=cv2.resize(imagearr,(32,32))\n",
    "        except:\n",
    "            pass\n",
    "        else:\n",
    "            cv2.rectangle(image,(x,y),(x+w,y+h),(255,0,0),3)\n",
    "            imagearr=preprocessing(imagearr)\n",
    "            imagearr=imagearr.reshape(1,32,32,1)\n",
    "            predictions=model.predict(imagearr)\n",
    "            NeuronIndex=model.predict_classes(imagearr)\n",
    "            cv2.putText(image,\"Class: \",(20,35),cv2.FONT_HERSHEY_SIMPLEX,1,(0,0,255),2)\n",
    "            cv2.putText(image,\"Probability: \",(20,75),cv2.FONT_HERSHEY_SIMPLEX,1,(0,0,255),2)\n",
    "            probabilityValue=np.amax(predictions)\n",
    "            if probabilityValue>=0.6:\n",
    "                cv2.putText(image,getClassName(NeuronIndex),(120,35),cv2.FONT_HERSHEY_SIMPLEX,1,(0,0,255),2)\n",
    "                cv2.putText(image,str(int(probabilityValue*100))+\"%\",(200,75),cv2.FONT_HERSHEY_SIMPLEX,1,(0,0,255),2)\n",
    "            cv2.imshow(\"Model Prediction\",image)\n",
    "            AsciiValue=cv2.waitKey(1)\n",
    "            if AsciiValue==ord('s'):\n",
    "                cv2.destroyAllWindows()\n",
    "                break"
   ]
  },
  {
   "cell_type": "code",
   "execution_count": 8,
   "id": "234672dc",
   "metadata": {},
   "outputs": [],
   "source": [
    "while True:\n",
    "    message,image=capt.read()\n",
    "    imagearr=np.asarray(image)\n",
    "    try:\n",
    "        imagearr=cv2.resize(imagearr,(32,32))\n",
    "    except:\n",
    "        pass\n",
    "    else:\n",
    "        imagearr=preprocessing(imagearr)\n",
    "        imagearr=imagearr.reshape(1,32,32,1)\n",
    "        predictions=model.predict(imagearr)\n",
    "        NeuronIndex=model.predict_classes(imagearr)\n",
    "        cv2.putText(image,\"Class: \",(20,35),cv2.FONT_HERSHEY_SIMPLEX,1,(0,0,255),2)\n",
    "        cv2.putText(image,\"Probability: \",(20,75),cv2.FONT_HERSHEY_SIMPLEX,1,(0,0,255),2)\n",
    "        probabilityValue=np.amax(predictions)\n",
    "        if probabilityValue>=0.6:\n",
    "            cv2.putText(image,getClassName(NeuronIndex),(120,35),cv2.FONT_HERSHEY_SIMPLEX,1,(0,0,255),2)\n",
    "            cv2.putText(image,str(int(probabilityValue*100))+\"%\",(200,75),cv2.FONT_HERSHEY_SIMPLEX,1,(0,0,255),2)\n",
    "        cv2.imshow(\"Model Prediction\",image)\n",
    "        AsciiValue=cv2.waitKey(1)\n",
    "        if AsciiValue==ord('s'):\n",
    "            cv2.destroyAllWindows()\n",
    "            break"
   ]
  },
  {
   "cell_type": "code",
   "execution_count": 2,
   "id": "8888689c",
   "metadata": {},
   "outputs": [],
   "source": [
    "import cv2\n",
    "cap=cv2.VideoCapture(0)\n",
    "face_cascade = cv2.CascadeClassifier(cv2.data.haarcascades + 'haarcascade_frontalface_default.xml')\n",
    "while True:\n",
    "    message,image=cap.read()\n",
    "    gray = cv2.cvtColor(image, cv2.COLOR_BGR2GRAY)\n",
    "    face=face_cascade.detectMultiScale(gray,1.25,3)\n",
    "    for (x,y,w,h) in face:\n",
    "        cv2.rectangle(image,(x,y),(x+w,y+h),(255,0,0),3)\n",
    "    cv2.imshow('Faces',image)\n",
    "    AsciiValue=cv2.waitKey(1)\n",
    "    if AsciiValue==ord('s'):\n",
    "        cv2.destroyAllWindows()\n",
    "        break"
   ]
  },
  {
   "cell_type": "code",
   "execution_count": 1,
   "id": "a6f4b0d8",
   "metadata": {},
   "outputs": [
    {
     "ename": "error",
     "evalue": "OpenCV(4.5.2) C:\\Users\\runneradmin\\AppData\\Local\\Temp\\pip-req-build-k1ohfcms\\opencv\\modules\\objdetect\\src\\cascadedetect.cpp:1689: error: (-215:Assertion failed) !empty() in function 'cv::CascadeClassifier::detectMultiScale'\n",
     "output_type": "error",
     "traceback": [
      "\u001b[1;31m---------------------------------------------------------------------------\u001b[0m",
      "\u001b[1;31merror\u001b[0m                                     Traceback (most recent call last)",
      "\u001b[1;32m<ipython-input-1-fa8c2b5e7758>\u001b[0m in \u001b[0;36m<module>\u001b[1;34m\u001b[0m\n\u001b[0;32m     15\u001b[0m     \u001b[0mgray\u001b[0m \u001b[1;33m=\u001b[0m \u001b[0mcv2\u001b[0m\u001b[1;33m.\u001b[0m\u001b[0mcvtColor\u001b[0m\u001b[1;33m(\u001b[0m\u001b[0mimg\u001b[0m\u001b[1;33m,\u001b[0m \u001b[0mcv2\u001b[0m\u001b[1;33m.\u001b[0m\u001b[0mCOLOR_BGR2GRAY\u001b[0m\u001b[1;33m)\u001b[0m\u001b[1;33m\u001b[0m\u001b[1;33m\u001b[0m\u001b[0m\n\u001b[0;32m     16\u001b[0m     \u001b[1;31m# Detect the faces\u001b[0m\u001b[1;33m\u001b[0m\u001b[1;33m\u001b[0m\u001b[1;33m\u001b[0m\u001b[0m\n\u001b[1;32m---> 17\u001b[1;33m     \u001b[0mfaces\u001b[0m \u001b[1;33m=\u001b[0m \u001b[0mface_cascade\u001b[0m\u001b[1;33m.\u001b[0m\u001b[0mdetectMultiScale\u001b[0m\u001b[1;33m(\u001b[0m\u001b[0mgray\u001b[0m\u001b[1;33m,\u001b[0m \u001b[1;36m1.1\u001b[0m\u001b[1;33m,\u001b[0m \u001b[1;36m4\u001b[0m\u001b[1;33m)\u001b[0m\u001b[1;33m\u001b[0m\u001b[1;33m\u001b[0m\u001b[0m\n\u001b[0m\u001b[0;32m     18\u001b[0m     \u001b[1;31m# Draw the rectangle around each face\u001b[0m\u001b[1;33m\u001b[0m\u001b[1;33m\u001b[0m\u001b[1;33m\u001b[0m\u001b[0m\n\u001b[0;32m     19\u001b[0m     \u001b[1;32mfor\u001b[0m \u001b[1;33m(\u001b[0m\u001b[0mx\u001b[0m\u001b[1;33m,\u001b[0m \u001b[0my\u001b[0m\u001b[1;33m,\u001b[0m \u001b[0mw\u001b[0m\u001b[1;33m,\u001b[0m \u001b[0mh\u001b[0m\u001b[1;33m)\u001b[0m \u001b[1;32min\u001b[0m \u001b[0mfaces\u001b[0m\u001b[1;33m:\u001b[0m\u001b[1;33m\u001b[0m\u001b[1;33m\u001b[0m\u001b[0m\n",
      "\u001b[1;31merror\u001b[0m: OpenCV(4.5.2) C:\\Users\\runneradmin\\AppData\\Local\\Temp\\pip-req-build-k1ohfcms\\opencv\\modules\\objdetect\\src\\cascadedetect.cpp:1689: error: (-215:Assertion failed) !empty() in function 'cv::CascadeClassifier::detectMultiScale'\n"
     ]
    }
   ],
   "source": [
    "import cv2\n",
    "\n",
    "# Load the cascade\n",
    "face_cascade = cv2.CascadeClassifier('haarcascade_frontalface_default.xml')\n",
    "\n",
    "# To capture video from webcam. \n",
    "cap = cv2.VideoCapture(0)\n",
    "# To use a video file as input \n",
    "# cap = cv2.VideoCapture('filename.mp4')\n",
    "\n",
    "while True:\n",
    "    # Read the frame\n",
    "    _, img = cap.read()\n",
    "    # Convert to grayscale\n",
    "    gray = cv2.cvtColor(img, cv2.COLOR_BGR2GRAY)\n",
    "    # Detect the faces\n",
    "    faces = face_cascade.detectMultiScale(gray, 1.1, 4)\n",
    "    # Draw the rectangle around each face\n",
    "    for (x, y, w, h) in faces:\n",
    "        cv2.rectangle(img, (x, y), (x+w, y+h), (255, 0, 0), 2)\n",
    "    # Display\n",
    "    cv2.imshow('img', img)\n",
    "    # Stop if escape key is pressed\n",
    "    k = cv2.waitKey(30) & 0xff\n",
    "    if k==27:\n",
    "        break\n",
    "# Release the VideoCapture object\n",
    "cap.release()"
   ]
  },
  {
   "cell_type": "code",
   "execution_count": null,
   "id": "c038cf4a",
   "metadata": {},
   "outputs": [],
   "source": [
    "[\"happy\",\"sad\",\"angry\",\"disgusted\",\"fearful\",\"neutral\",\"surprised\"]"
   ]
  },
  {
   "cell_type": "code",
   "execution_count": null,
   "id": "f41841e3",
   "metadata": {},
   "outputs": [],
   "source": []
  }
 ],
 "metadata": {
  "kernelspec": {
   "display_name": "Python 3",
   "language": "python",
   "name": "python3"
  },
  "language_info": {
   "codemirror_mode": {
    "name": "ipython",
    "version": 3
   },
   "file_extension": ".py",
   "mimetype": "text/x-python",
   "name": "python",
   "nbconvert_exporter": "python",
   "pygments_lexer": "ipython3",
   "version": "3.8.8"
  }
 },
 "nbformat": 4,
 "nbformat_minor": 5
}
