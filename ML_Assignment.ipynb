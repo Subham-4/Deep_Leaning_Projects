{
 "cells": [
  {
   "cell_type": "code",
   "execution_count": 1,
   "id": "3f663765",
   "metadata": {},
   "outputs": [],
   "source": [
    "import numpy as np\n",
    "import nltk\n",
    "import pandas as pd"
   ]
  },
  {
   "cell_type": "code",
   "execution_count": 2,
   "id": "2df5fafc",
   "metadata": {},
   "outputs": [],
   "source": [
    "keywords = pd.read_csv(\"sample.csv\", encoding= 'unicode_escape')\n",
    "raw_skills = pd.read_csv(\"Raw_Skills_Dataset.csv\")"
   ]
  },
  {
   "cell_type": "code",
   "execution_count": 3,
   "id": "36d10412",
   "metadata": {},
   "outputs": [],
   "source": [
    "keywords.drop([\"Unnamed: 1\",\"Unnamed: 2\"], axis=1, inplace=True)"
   ]
  },
  {
   "cell_type": "code",
   "execution_count": 4,
   "id": "1f6923ee",
   "metadata": {},
   "outputs": [],
   "source": [
    "keywords[\"keywords\"] = keywords[\"keywords\"].str.lower()"
   ]
  },
  {
   "cell_type": "code",
   "execution_count": 5,
   "id": "aae49d91",
   "metadata": {},
   "outputs": [],
   "source": [
    "from nltk.tokenize import word_tokenize"
   ]
  },
  {
   "cell_type": "code",
   "execution_count": 6,
   "id": "4b49342c",
   "metadata": {},
   "outputs": [],
   "source": [
    "keywords[\"keywords\"] = keywords[\"keywords\"].apply(word_tokenize)"
   ]
  },
  {
   "cell_type": "code",
   "execution_count": 7,
   "id": "47b1cbf5",
   "metadata": {},
   "outputs": [],
   "source": [
    "lst = []\n",
    "for i in keywords[\"keywords\"]:\n",
    "    for j in i:\n",
    "        lst.append(j)"
   ]
  },
  {
   "cell_type": "code",
   "execution_count": 8,
   "id": "8a5d6f6c",
   "metadata": {},
   "outputs": [],
   "source": [
    "l = ['(',')','@','#','!','--',\"'s\"]\n",
    "for i in lst:\n",
    "    for j in l:\n",
    "        if j in i:\n",
    "            lst.remove(i)"
   ]
  },
  {
   "cell_type": "code",
   "execution_count": 9,
   "id": "e333bb01",
   "metadata": {},
   "outputs": [],
   "source": [
    "lst = [words for words in lst if len(words)>1]"
   ]
  },
  {
   "cell_type": "code",
   "execution_count": 10,
   "id": "b7e96617",
   "metadata": {},
   "outputs": [],
   "source": [
    "raw_skills[\"RAW DATA\"] = raw_skills[\"RAW DATA\"].str.lower()"
   ]
  },
  {
   "cell_type": "code",
   "execution_count": 11,
   "id": "c77f539a",
   "metadata": {},
   "outputs": [],
   "source": [
    "raw_skills[\"RAW DATA\"] = raw_skills[\"RAW DATA\"].apply(word_tokenize)"
   ]
  },
  {
   "cell_type": "code",
   "execution_count": 12,
   "id": "667edd62",
   "metadata": {},
   "outputs": [],
   "source": [
    "output = np.zeros(len(raw_skills[\"RAW DATA\"]), dtype = int)\n",
    "\n",
    "for loc,i in enumerate(raw_skills[\"RAW DATA\"]):\n",
    "    for j in i:\n",
    "        for k in lst:\n",
    "            if k in j:\n",
    "                output[loc]=1"
   ]
  },
  {
   "cell_type": "code",
   "execution_count": 14,
   "id": "ccdcd8c1",
   "metadata": {},
   "outputs": [],
   "source": [
    "df = pd.DataFrame(output)\n",
    "df.to_csv(\"output1.csv\")"
   ]
  },
  {
   "cell_type": "code",
   "execution_count": null,
   "id": "1e627ea2",
   "metadata": {},
   "outputs": [],
   "source": []
  }
 ],
 "metadata": {
  "kernelspec": {
   "display_name": "Python 3 (ipykernel)",
   "language": "python",
   "name": "python3"
  },
  "language_info": {
   "codemirror_mode": {
    "name": "ipython",
    "version": 3
   },
   "file_extension": ".py",
   "mimetype": "text/x-python",
   "name": "python",
   "nbconvert_exporter": "python",
   "pygments_lexer": "ipython3",
   "version": "3.9.7"
  }
 },
 "nbformat": 4,
 "nbformat_minor": 5
}
