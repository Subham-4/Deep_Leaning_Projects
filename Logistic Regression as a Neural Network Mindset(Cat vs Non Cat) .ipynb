{
 "cells": [
  {
   "cell_type": "code",
   "execution_count": 80,
   "metadata": {},
   "outputs": [],
   "source": [
    "import numpy as np\n",
    "import matplotlib.pyplot as plt\n",
    "import h5py\n",
    "import scipy\n",
    "from PIL import Image\n",
    "from scipy import ndimage\n",
    "\n",
    "%matplotlib inline"
   ]
  },
  {
   "cell_type": "code",
   "execution_count": 81,
   "metadata": {},
   "outputs": [],
   "source": [
    "def load_dataset():\n",
    "    train_dataset=h5py.File('train_catvnoncat.h5','r')\n",
    "    train_set_x=np.array(train_dataset['train_set_x'][:])\n",
    "    train_set_y=np.array(train_dataset['train_set_y'][:])\n",
    "    \n",
    "    test_dataset=h5py.File('test_catvnoncat.h5','r')\n",
    "    test_set_x=np.array(test_dataset['test_set_x'][:])\n",
    "    test_set_y=np.array(test_dataset['test_set_y'][:])\n",
    "    \n",
    "    classes=np.array(test_dataset['list_classes'][:])\n",
    "    \n",
    "    train_set_y=train_set_y.reshape((1,train_set_y.shape[0]))\n",
    "    test_set_y=test_set_y.reshape((1,test_set_y.shape[0]))\n",
    "    \n",
    "    return train_set_x,train_set_y,test_set_x,test_set_y,classes"
   ]
  },
  {
   "cell_type": "code",
   "execution_count": 82,
   "metadata": {},
   "outputs": [],
   "source": [
    "train_set_x,train_set_y,test_set_x,test_set_y,classes=load_dataset()"
   ]
  },
  {
   "cell_type": "code",
   "execution_count": 83,
   "metadata": {},
   "outputs": [],
   "source": [
    "m_train=train_set_x.shape[0]\n",
    "m_test=test_set_x.shape[0]\n",
    "num_px=train_set_x.shape[1]"
   ]
  },
  {
   "cell_type": "code",
   "execution_count": 84,
   "metadata": {},
   "outputs": [],
   "source": [
    "train_set_x_flatten=train_set_x.reshape(train_set_x.shape[0],-1).T\n",
    "test_set_x_flatten=test_set_x.reshape(test_set_x.shape[0],-1).T\n"
   ]
  },
  {
   "cell_type": "code",
   "execution_count": 85,
   "metadata": {},
   "outputs": [],
   "source": [
    "train_set_x1=train_set_x_flatten/255\n",
    "test_set_x1=test_set_x_flatten/255"
   ]
  },
  {
   "cell_type": "code",
   "execution_count": 86,
   "metadata": {},
   "outputs": [],
   "source": [
    "def sigmoid(z):\n",
    "    s=1/(1+np.exp(-z))\n",
    "    return s"
   ]
  },
  {
   "cell_type": "code",
   "execution_count": 87,
   "metadata": {},
   "outputs": [],
   "source": [
    "def initialize_with_zeros(dim):\n",
    "    w = np.zeros((dim, 1))\n",
    "    b = 0\n",
    "    return w,b"
   ]
  },
  {
   "cell_type": "code",
   "execution_count": 88,
   "metadata": {},
   "outputs": [],
   "source": [
    "def propagate(w,b,x,y):\n",
    "    m=x.shape[1]\n",
    "    \n",
    "    a=sigmoid(np.dot(w.T,x)+b)\n",
    "    cost=-(1/m)*(np.sum(y*np.log(a)+(1-y)*np.log(1-a)))\n",
    "    \n",
    "    dw=(1/m)*(np.dot(x,(a-y).T))\n",
    "    db=(1/m)*(np.sum(a-y))\n",
    "    return dw,db,cost"
   ]
  },
  {
   "cell_type": "code",
   "execution_count": 89,
   "metadata": {},
   "outputs": [],
   "source": [
    "def optimize(w,b,x,y,num_iters,learning_rate,print_cost=False):\n",
    "    costs=[]\n",
    "    for i in range(num_iters):\n",
    "        dw,db,cost=propagate(w,b,x,y)\n",
    "        w-=learning_rate*dw\n",
    "        b-=learning_rate*db\n",
    "        \n",
    "        if i%100==0:\n",
    "            costs.append(cost)\n",
    "        \n",
    "        if print_cost and i % 100 == 0:\n",
    "            print (\"Cost after iteration %i: %f\" %(i, cost))\n",
    "    \n",
    "    return w,b,dw,db,costs"
   ]
  },
  {
   "cell_type": "code",
   "execution_count": 93,
   "metadata": {},
   "outputs": [],
   "source": [
    "def predict(w,b,x):\n",
    "    m=x.shape[1]\n",
    "    y_predictions=np.zeros((1,m))\n",
    "    w.reshape(x.shape[0],1)\n",
    "    A=sigmoid(np.dot(w.T, x) + b)\n",
    "    \n",
    "    for i in range(A.shape[1]):\n",
    "        if A[0,i]>0.5:\n",
    "            y_predictions[0,i]=1\n",
    "        else:\n",
    "            y_predictions[0,i]=0\n",
    "    return y_predictions"
   ]
  },
  {
   "cell_type": "code",
   "execution_count": 98,
   "metadata": {},
   "outputs": [],
   "source": [
    "def model(X_train, Y_train, X_test, Y_test, num_iterations = 2000, learning_rate = 0.5, print_cost = False):\n",
    "    w1,b1=initialize_with_zeros(X_train.shape[0])\n",
    "    w,b,dw,db,costs=optimize(w1,b1,X_train, Y_train, num_iterations , learning_rate , print_cost = print_cost)\n",
    "    y_predictions_train=predict(w,b,X_train)\n",
    "    y_predictions_test=predict(w,b,X_test)\n",
    "    \n",
    "    print(\"train accuracy: {} %\".format(100 - np.mean(np.abs(y_predictions_train - Y_train)) * 100))\n",
    "    print(\"test accuracy: {} %\".format(100 - np.mean(np.abs(y_predictions_test - Y_test)) * 100))\n",
    "\n",
    "    \n",
    "    d = {\"costs\": costs,\n",
    "         \"Y_prediction_test\": y_predictions_test, \n",
    "         \"Y_prediction_train\" : y_predictions_train, \n",
    "         \"w\" : w, \n",
    "         \"b\" : b,\n",
    "         \"learning_rate\" : learning_rate,\n",
    "         \"num_iterations\": num_iterations}\n",
    "    \n",
    "    return d\n"
   ]
  },
  {
   "cell_type": "code",
   "execution_count": 99,
   "metadata": {},
   "outputs": [
    {
     "name": "stdout",
     "output_type": "stream",
     "text": [
      "Cost after iteration 0: 0.693147\n",
      "Cost after iteration 100: 0.584508\n",
      "Cost after iteration 200: 0.466949\n",
      "Cost after iteration 300: 0.376007\n",
      "Cost after iteration 400: 0.331463\n",
      "Cost after iteration 500: 0.303273\n",
      "Cost after iteration 600: 0.279880\n",
      "Cost after iteration 700: 0.260042\n",
      "Cost after iteration 800: 0.242941\n",
      "Cost after iteration 900: 0.228004\n",
      "Cost after iteration 1000: 0.214820\n",
      "Cost after iteration 1100: 0.203078\n",
      "Cost after iteration 1200: 0.192544\n",
      "Cost after iteration 1300: 0.183033\n",
      "Cost after iteration 1400: 0.174399\n",
      "Cost after iteration 1500: 0.166521\n",
      "Cost after iteration 1600: 0.159305\n",
      "Cost after iteration 1700: 0.152667\n",
      "Cost after iteration 1800: 0.146542\n",
      "Cost after iteration 1900: 0.140872\n",
      "train accuracy: 99.04306220095694 %\n",
      "test accuracy: 70.0 %\n"
     ]
    }
   ],
   "source": [
    "d=model(train_set_x1,train_set_y,test_set_x1,test_set_y, num_iterations = 2000, learning_rate = 0.005, print_cost = True)"
   ]
  },
  {
   "cell_type": "code",
   "execution_count": 100,
   "metadata": {},
   "outputs": [
    {
     "data": {
      "text/plain": [
       "{'costs': [0.6931471805599453,\n",
       "  0.5845083636993086,\n",
       "  0.46694904094655476,\n",
       "  0.37600686694802077,\n",
       "  0.3314632893282513,\n",
       "  0.30327306747438293,\n",
       "  0.2798795865826048,\n",
       "  0.26004213692587574,\n",
       "  0.24294068467796623,\n",
       "  0.22800422256726066,\n",
       "  0.21481951378449635,\n",
       "  0.20307819060644985,\n",
       "  0.1925442771670686,\n",
       "  0.18303333796883503,\n",
       "  0.17439859438448876,\n",
       "  0.16652139705400335,\n",
       "  0.15930451829756614,\n",
       "  0.15266732471296504,\n",
       "  0.1465422350398234,\n",
       "  0.14087207570310162],\n",
       " 'Y_prediction_test': array([[1., 1., 1., 1., 1., 1., 0., 1., 1., 1., 0., 0., 1., 1., 0., 1.,\n",
       "         0., 1., 0., 0., 1., 0., 0., 1., 1., 1., 1., 0., 0., 1., 0., 1.,\n",
       "         1., 0., 1., 0., 0., 1., 0., 0., 1., 0., 1., 0., 1., 0., 0., 1.,\n",
       "         1., 0.]]),\n",
       " 'Y_prediction_train': array([[0., 0., 1., 0., 0., 0., 0., 1., 0., 0., 0., 1., 0., 1., 1., 0.,\n",
       "         0., 0., 0., 1., 0., 0., 0., 0., 1., 1., 0., 1., 0., 1., 0., 0.,\n",
       "         0., 0., 0., 0., 0., 0., 1., 0., 0., 0., 1., 0., 0., 0., 0., 1.,\n",
       "         0., 0., 1., 0., 0., 0., 1., 0., 1., 1., 0., 1., 1., 1., 0., 0.,\n",
       "         0., 0., 0., 0., 1., 0., 0., 1., 0., 0., 0., 1., 0., 0., 0., 0.,\n",
       "         0., 0., 0., 1., 1., 0., 0., 0., 1., 0., 0., 0., 1., 1., 1., 0.,\n",
       "         0., 1., 0., 0., 0., 0., 1., 0., 1., 0., 1., 1., 1., 1., 1., 1.,\n",
       "         0., 0., 0., 0., 0., 1., 0., 0., 0., 1., 0., 0., 1., 0., 1., 0.,\n",
       "         1., 1., 0., 0., 0., 1., 1., 1., 1., 1., 0., 0., 0., 0., 1., 0.,\n",
       "         1., 1., 1., 0., 1., 1., 0., 0., 0., 1., 0., 0., 1., 0., 0., 0.,\n",
       "         0., 0., 1., 0., 1., 0., 1., 0., 0., 1., 1., 1., 0., 0., 1., 1.,\n",
       "         0., 1., 0., 1., 0., 0., 0., 0., 0., 1., 0., 0., 1., 0., 0., 0.,\n",
       "         1., 0., 0., 0., 0., 1., 0., 0., 1., 0., 0., 0., 0., 0., 0., 0.,\n",
       "         0.]]),\n",
       " 'w': array([[ 0.00961402],\n",
       "        [-0.0264683 ],\n",
       "        [-0.01226513],\n",
       "        ...,\n",
       "        [-0.01144453],\n",
       "        [-0.02944783],\n",
       "        [ 0.02378106]]),\n",
       " 'b': -0.01590624399969298,\n",
       " 'learning_rate': 0.005,\n",
       " 'num_iterations': 2000}"
      ]
     },
     "execution_count": 100,
     "metadata": {},
     "output_type": "execute_result"
    }
   ],
   "source": [
    "d"
   ]
  },
  {
   "cell_type": "code",
   "execution_count": 101,
   "metadata": {},
   "outputs": [
    {
     "data": {
      "image/png": "[encoded data removed]",
      "text/plain": [
       "<Figure size 432x288 with 1 Axes>"
      ]
     },
     "metadata": {
      "needs_background": "light"
     },
     "output_type": "display_data"
    }
   ],
   "source": [
    "costs = np.squeeze(d['costs'])\n",
    "plt.plot(costs)\n",
    "plt.ylabel('cost')\n",
    "plt.xlabel('iterations (per hundreds)')\n",
    "plt.title(\"Learning rate =\" + str(d[\"learning_rate\"]))\n",
    "plt.show()"
   ]
  },
  {
   "cell_type": "code",
   "execution_count": 109,
   "metadata": {},
   "outputs": [],
   "source": [
    "import numpy as np\n",
    "from PIL import Image\n",
    "cat=Image.open('D:\\cat1.jpg')\n",
    "rgbcat=cat.convert('RGB')\n",
    "rgbcat.resize((384,256))\n",
    "catlst=np.array(rgbcat.getdata())\n",
    "train=catlst[0:64]\n",
    "x=train.reshape((64*3,1))/255"
   ]
  },
  {
   "cell_type": "code",
   "execution_count": 110,
   "metadata": {},
   "outputs": [],
   "source": [
    "w=np.zeros((64*3,1))\n",
    "b=0"
   ]
  },
  {
   "cell_type": "code",
   "execution_count": 111,
   "metadata": {},
   "outputs": [],
   "source": [
    "prediction=predict(w,b,x)"
   ]
  },
  {
   "cell_type": "code",
   "execution_count": 112,
   "metadata": {},
   "outputs": [
    {
     "data": {
      "text/plain": [
       "array([[0.]])"
      ]
     },
     "execution_count": 112,
     "metadata": {},
     "output_type": "execute_result"
    }
   ],
   "source": [
    "prediction"
   ]
  },
  {
   "cell_type": "code",
   "execution_count": null,
   "metadata": {},
   "outputs": [],
   "source": []
  }
 ],
 "metadata": {
  "kernelspec": {
   "display_name": "Python 3",
   "language": "python",
   "name": "python3"
  },
  "language_info": {
   "codemirror_mode": {
    "name": "ipython",
    "version": 3
   },
   "file_extension": ".py",
   "mimetype": "text/x-python",
   "name": "python",
   "nbconvert_exporter": "python",
   "pygments_lexer": "ipython3",
   "version": "3.8.8"
  }
 },
 "nbformat": 4,
 "nbformat_minor": 4
}
