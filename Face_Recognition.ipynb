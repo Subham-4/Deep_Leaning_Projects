{
 "cells": [
  {
   "cell_type": "code",
   "execution_count": 3,
   "id": "f49c60c7",
   "metadata": {},
   "outputs": [],
   "source": [
    "import face_recognition\n",
    "known_image = face_recognition.load_image_file(\"known3.png\")\n",
    "#unknown_image = face_recognition.load_image_file(\"unknown2.png\")\n",
    "\n",
    "known_encoding = face_recognition.face_encodings(known_image)[0]\n",
    "#unknown_encoding = face_recognition.face_encodings(unknown_image)[0]\n",
    "\n",
    "#results = face_recognition.compare_faces([known_encoding], unknown_encoding)\n",
    "#results"
   ]
  },
  {
   "cell_type": "code",
   "execution_count": 6,
   "id": "c6f38452",
   "metadata": {},
   "outputs": [],
   "source": [
    "import cv2\n",
    "cap=cv2.VideoCapture(0)\n",
    "cep=cv2.VideoCapture(\"vid3.mp4\")\n",
    "while True:\n",
    "    results=[False]\n",
    "    message,image=cap.read()\n",
    "    try:\n",
    "        image2=image[:, :, ::-1]\n",
    "        unknown_encoding = face_recognition.face_encodings(image2)[0]\n",
    "        results = face_recognition.compare_faces([known_encoding], unknown_encoding)\n",
    "    except:\n",
    "        pass\n",
    "    if results[0]==True:\n",
    "        cv2.putText(image,str(\"Attendance Successful\"),(20,100),cv2.FONT_HERSHEY_COMPLEX, 1, (0,0,0), 4)\n",
    "        cv2.putText(image,str(\"Attendance Successful\"),(20,100),cv2.FONT_HERSHEY_COMPLEX, 1, (255,255,255), 2)\n",
    "    elif results[0]==False:\n",
    "        cv2.putText(image,str(\"Attendance UnSuccessful...RETRY\"),(20,100),cv2.FONT_HERSHEY_COMPLEX, 1,(0,), 4)\n",
    "        cv2.putText(image,str(\"Attendance UnSuccessful...RETRY\"),(20,100),cv2.FONT_HERSHEY_COMPLEX, 1, (255,), 2)\n",
    "    cv2.imshow('Face',image)\n",
    "    AsciiValue=cv2.waitKey(1)\n",
    "    if AsciiValue==ord('s'):\n",
    "        cv2.destroyAllWindows()\n",
    "        break"
   ]
  },
  {
   "cell_type": "code",
   "execution_count": 20,
   "id": "5aeecee3",
   "metadata": {},
   "outputs": [
    {
     "data": {
      "text/plain": [
       "True"
      ]
     },
     "execution_count": 20,
     "metadata": {},
     "output_type": "execute_result"
    }
   ],
   "source": [
    "results[0]==True"
   ]
  },
  {
   "cell_type": "code",
   "execution_count": 2,
   "id": "b6155615",
   "metadata": {},
   "outputs": [
    {
     "data": {
      "text/plain": [
       "[False]"
      ]
     },
     "execution_count": 2,
     "metadata": {},
     "output_type": "execute_result"
    }
   ],
   "source": [
    "results"
   ]
  },
  {
   "cell_type": "code",
   "execution_count": null,
   "id": "809ffb79",
   "metadata": {},
   "outputs": [],
   "source": []
  }
 ],
 "metadata": {
  "kernelspec": {
   "display_name": "Python 3",
   "language": "python",
   "name": "python3"
  },
  "language_info": {
   "codemirror_mode": {
    "name": "ipython",
    "version": 3
   },
   "file_extension": ".py",
   "mimetype": "text/x-python",
   "name": "python",
   "nbconvert_exporter": "python",
   "pygments_lexer": "ipython3",
   "version": "3.8.8"
  }
 },
 "nbformat": 4,
 "nbformat_minor": 5
}
